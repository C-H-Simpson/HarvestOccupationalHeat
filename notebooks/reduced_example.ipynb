{
 "cells": [
  {
   "cell_type": "markdown",
   "metadata": {},
   "source": [
    "# Climate risk to rice labour\n",
    "Rice is an important part of the global food supply. It provides half\n",
    "of calories consumed in Asia. Frequently, rice is harvested by hand.\n",
    "This can be strenuous work, often in hot and humid conditions. Hot and\n",
    "humid conditions are projected to become more common due to global\n",
    "warming.\n",
    "\n",
    "In this notebook, a global climate model is combined with crop\n",
    "calendars in order to identify locations in which workers engaged in\n",
    "rice harvest may already be affected by hot and humid weather, and the\n",
    "extent to which this will increase with global warming.\n",
    "\n",
    "This is intended as an illustration of a more complete analysis, which\n",
    "you can follow and reproduce on your own computer.\n",
    "For this reason, we use only one climate model, and only one future\n",
    "pathway for emissions."
   ]
  },
  {
   "cell_type": "code",
   "execution_count": 1,
   "metadata": {},
   "outputs": [
    {
     "name": "stdout",
     "output_type": "stream",
     "text": [
      "\n",
      "CommandNotFoundError: Your shell has not been properly configured to use 'conda activate'.\n",
      "To initialize your shell, run\n",
      "\n",
      "    $ conda init <SHELL_NAME>\n",
      "\n",
      "Currently supported shells are:\n",
      "  - bash\n",
      "  - fish\n",
      "  - tcsh\n",
      "  - xonsh\n",
      "  - zsh\n",
      "  - powershell\n",
      "\n",
      "See 'conda init --help' for more information and options.\n",
      "\n",
      "IMPORTANT: You may need to close and restart your shell after running 'conda init'.\n",
      "\n",
      "\n"
     ]
    }
   ],
   "source": [
    "# Use this cell if the conda environment is not already set up\n",
    "!. ../env.sh riceheat ../environment.yml > env_build_log.txt"
   ]
  },
  {
   "cell_type": "code",
   "execution_count": 2,
   "metadata": {},
   "outputs": [],
   "source": [
    "# Imports\n",
    "\n",
    "# Relative import workaround\n",
    "import os\n",
    "import sys\n",
    "module_path = os.path.abspath(os.path.join('..'))\n",
    "if module_path not in sys.path:\n",
    "    sys.path.append(module_path)\n",
    "\n",
    "import warnings\n",
    "import xarray as xr\n",
    "import numpy as np\n",
    "from scipy import stats\n",
    "import matplotlib.pyplot as plt\n",
    "import matplotlib as mpl\n",
    "import cartopy.crs as ccrs\n",
    "import cartopy.feature as cfeature\n",
    "from psychrolib import GetTWetBulbFromHumRatio, SI, SetUnitSystem\n",
    "from intake import open_catalog\n",
    "\n",
    "from src.dayofyear import dayofyear_checker\n",
    "from src.Labour import labour_sahu\n",
    "\n",
    "absolute_zero = -273.15\n",
    "SetUnitSystem(SI)\n",
    "\n",
    "# Silence warning about dividing by 0 or nan.\n",
    "np.seterr(divide=\"ignore\", invalid=\"ignore\")\n",
    "warnings.filterwarnings(\"once\", \".*No gridpoint belongs to any region.*\")\n",
    "warnings.filterwarnings(\"once\", \".*Geometry is in a geographic CRS.*\")\n",
    "warnings.filterwarnings(\"once\", \".*invalid value .*\")\n",
    "warnings.filterwarnings(\"once\", \".*All-NaN slice.*\")\n",
    "warnings.filterwarnings(\"once\", \".*invalid value encountered in.*\")"
   ]
  },
  {
   "cell_type": "markdown",
   "metadata": {},
   "source": [
    "## RiceAtlas\n",
    "\n",
    "\"...a spatial database on the seasonal distribution of the world’s rice\n",
    "production. It consists of data on rice planting and harvesting dates by\n",
    "growing season and estimates of monthly production for all rice-producing\n",
    "countries. Sources used for planting and harvesting dates include global and\n",
    "regional databases, national publications, online reports, and expert\n",
    "knowledge.\"\n",
    "\n",
    "[Laborte, A. G. et al., 2017](https://www.nature.com/articles/sdata201774)\n",
    "\n",
    "Details of loading the RiceAtlas data are handled by [../src/RiceAtlas.py](../src/RiceAtlas.py)"
   ]
  },
  {
   "cell_type": "code",
   "execution_count": 3,
   "metadata": {},
   "outputs": [
    {
     "data": {
      "text/html": [
       "<div>\n",
       "<style scoped>\n",
       "    .dataframe tbody tr th:only-of-type {\n",
       "        vertical-align: middle;\n",
       "    }\n",
       "\n",
       "    .dataframe tbody tr th {\n",
       "        vertical-align: top;\n",
       "    }\n",
       "\n",
       "    .dataframe thead th {\n",
       "        text-align: right;\n",
       "    }\n",
       "</style>\n",
       "<table border=\"1\" class=\"dataframe\">\n",
       "  <thead>\n",
       "    <tr style=\"text-align: right;\">\n",
       "      <th></th>\n",
       "      <th>OBJECTID</th>\n",
       "      <th>ISO</th>\n",
       "      <th>COUNTRY</th>\n",
       "      <th>REGION</th>\n",
       "      <th>SUB_REGION</th>\n",
       "      <th>HASC</th>\n",
       "      <th>Shape_Leng</th>\n",
       "      <th>Shape_Le_1</th>\n",
       "      <th>Shape_Area</th>\n",
       "      <th>NAME1</th>\n",
       "      <th>...</th>\n",
       "      <th>A_Q1</th>\n",
       "      <th>A_Q2</th>\n",
       "      <th>A_Q3</th>\n",
       "      <th>A_Q4</th>\n",
       "      <th>P_Q1</th>\n",
       "      <th>P_Q2</th>\n",
       "      <th>P_Q3</th>\n",
       "      <th>P_Q4</th>\n",
       "      <th>CONTINENT</th>\n",
       "      <th>geometry</th>\n",
       "    </tr>\n",
       "  </thead>\n",
       "  <tbody>\n",
       "    <tr>\n",
       "      <th>0</th>\n",
       "      <td>1</td>\n",
       "      <td>BRN</td>\n",
       "      <td>Brunei</td>\n",
       "      <td>Belait</td>\n",
       "      <td>Belait</td>\n",
       "      <td>BN.BE</td>\n",
       "      <td>2.614166</td>\n",
       "      <td>2.614166</td>\n",
       "      <td>0.231650</td>\n",
       "      <td>Main</td>\n",
       "      <td>...</td>\n",
       "      <td>1862.0</td>\n",
       "      <td>0.0</td>\n",
       "      <td>0.0</td>\n",
       "      <td>0.0</td>\n",
       "      <td>1119.0</td>\n",
       "      <td>0.0</td>\n",
       "      <td>0.0</td>\n",
       "      <td>0.0</td>\n",
       "      <td>Asia</td>\n",
       "      <td>POLYGON ((114.52955 4.71594, 114.52980 4.71531...</td>\n",
       "    </tr>\n",
       "    <tr>\n",
       "      <th>1</th>\n",
       "      <td>2</td>\n",
       "      <td>BTN</td>\n",
       "      <td>Bhutan</td>\n",
       "      <td>Bumthang</td>\n",
       "      <td>Bumthang</td>\n",
       "      <td>BT.BU</td>\n",
       "      <td>2.650571</td>\n",
       "      <td>2.650571</td>\n",
       "      <td>0.254616</td>\n",
       "      <td>Main</td>\n",
       "      <td>...</td>\n",
       "      <td>0.0</td>\n",
       "      <td>0.0</td>\n",
       "      <td>0.0</td>\n",
       "      <td>15.0</td>\n",
       "      <td>0.0</td>\n",
       "      <td>0.0</td>\n",
       "      <td>0.0</td>\n",
       "      <td>94.0</td>\n",
       "      <td>Asia</td>\n",
       "      <td>POLYGON ((90.70934 28.08933, 90.71093 28.08835...</td>\n",
       "    </tr>\n",
       "    <tr>\n",
       "      <th>2</th>\n",
       "      <td>3</td>\n",
       "      <td>BTN</td>\n",
       "      <td>Bhutan</td>\n",
       "      <td>Chhukha</td>\n",
       "      <td>Chhukha</td>\n",
       "      <td>BT.CK</td>\n",
       "      <td>2.462051</td>\n",
       "      <td>2.462051</td>\n",
       "      <td>0.159026</td>\n",
       "      <td>Main</td>\n",
       "      <td>...</td>\n",
       "      <td>0.0</td>\n",
       "      <td>0.0</td>\n",
       "      <td>0.0</td>\n",
       "      <td>1130.0</td>\n",
       "      <td>0.0</td>\n",
       "      <td>0.0</td>\n",
       "      <td>0.0</td>\n",
       "      <td>3196.0</td>\n",
       "      <td>Asia</td>\n",
       "      <td>POLYGON ((89.58981 27.24489, 89.59187 27.24487...</td>\n",
       "    </tr>\n",
       "    <tr>\n",
       "      <th>3</th>\n",
       "      <td>4</td>\n",
       "      <td>BTN</td>\n",
       "      <td>Bhutan</td>\n",
       "      <td>Chirang</td>\n",
       "      <td>Chirang</td>\n",
       "      <td>BT.CR</td>\n",
       "      <td>1.360309</td>\n",
       "      <td>1.360309</td>\n",
       "      <td>0.056008</td>\n",
       "      <td>Main</td>\n",
       "      <td>...</td>\n",
       "      <td>0.0</td>\n",
       "      <td>0.0</td>\n",
       "      <td>0.0</td>\n",
       "      <td>1669.0</td>\n",
       "      <td>0.0</td>\n",
       "      <td>0.0</td>\n",
       "      <td>0.0</td>\n",
       "      <td>3844.0</td>\n",
       "      <td>Asia</td>\n",
       "      <td>POLYGON ((90.15416 27.15287, 90.15668 27.15251...</td>\n",
       "    </tr>\n",
       "    <tr>\n",
       "      <th>4</th>\n",
       "      <td>5</td>\n",
       "      <td>BTN</td>\n",
       "      <td>Bhutan</td>\n",
       "      <td>Daga</td>\n",
       "      <td>Daga</td>\n",
       "      <td>BT.DA</td>\n",
       "      <td>1.844243</td>\n",
       "      <td>1.844243</td>\n",
       "      <td>0.121813</td>\n",
       "      <td>Main</td>\n",
       "      <td>...</td>\n",
       "      <td>0.0</td>\n",
       "      <td>0.0</td>\n",
       "      <td>0.0</td>\n",
       "      <td>2377.0</td>\n",
       "      <td>0.0</td>\n",
       "      <td>0.0</td>\n",
       "      <td>0.0</td>\n",
       "      <td>6306.0</td>\n",
       "      <td>Asia</td>\n",
       "      <td>POLYGON ((89.79521 27.26359, 89.79643 27.26202...</td>\n",
       "    </tr>\n",
       "    <tr>\n",
       "      <th>...</th>\n",
       "      <td>...</td>\n",
       "      <td>...</td>\n",
       "      <td>...</td>\n",
       "      <td>...</td>\n",
       "      <td>...</td>\n",
       "      <td>...</td>\n",
       "      <td>...</td>\n",
       "      <td>...</td>\n",
       "      <td>...</td>\n",
       "      <td>...</td>\n",
       "      <td>...</td>\n",
       "      <td>...</td>\n",
       "      <td>...</td>\n",
       "      <td>...</td>\n",
       "      <td>...</td>\n",
       "      <td>...</td>\n",
       "      <td>...</td>\n",
       "      <td>...</td>\n",
       "      <td>...</td>\n",
       "      <td>...</td>\n",
       "      <td>...</td>\n",
       "    </tr>\n",
       "    <tr>\n",
       "      <th>2132</th>\n",
       "      <td>1556</td>\n",
       "      <td>IND</td>\n",
       "      <td>India</td>\n",
       "      <td>Maharashtra</td>\n",
       "      <td>Aurangabad</td>\n",
       "      <td>IN.MH.AU</td>\n",
       "      <td>8.388770</td>\n",
       "      <td>8.388770</td>\n",
       "      <td>0.577789</td>\n",
       "      <td>Kharif</td>\n",
       "      <td>...</td>\n",
       "      <td>0.0</td>\n",
       "      <td>0.0</td>\n",
       "      <td>0.0</td>\n",
       "      <td>589.0</td>\n",
       "      <td>0.0</td>\n",
       "      <td>0.0</td>\n",
       "      <td>0.0</td>\n",
       "      <td>316.0</td>\n",
       "      <td>Asia</td>\n",
       "      <td>MULTIPOLYGON (((74.82336 20.24531, 74.82691 20...</td>\n",
       "    </tr>\n",
       "    <tr>\n",
       "      <th>2133</th>\n",
       "      <td>1557</td>\n",
       "      <td>IND</td>\n",
       "      <td>India</td>\n",
       "      <td>Maharashtra</td>\n",
       "      <td>Jalna</td>\n",
       "      <td>IN.MH.JN</td>\n",
       "      <td>5.480544</td>\n",
       "      <td>5.480544</td>\n",
       "      <td>0.474685</td>\n",
       "      <td>Kharif</td>\n",
       "      <td>...</td>\n",
       "      <td>0.0</td>\n",
       "      <td>0.0</td>\n",
       "      <td>0.0</td>\n",
       "      <td>688.0</td>\n",
       "      <td>0.0</td>\n",
       "      <td>0.0</td>\n",
       "      <td>0.0</td>\n",
       "      <td>474.0</td>\n",
       "      <td>Asia</td>\n",
       "      <td>POLYGON ((76.02627 20.64548, 76.03284 20.64016...</td>\n",
       "    </tr>\n",
       "    <tr>\n",
       "      <th>2134</th>\n",
       "      <td>1558</td>\n",
       "      <td>IND</td>\n",
       "      <td>India</td>\n",
       "      <td>Madhya Pradesh</td>\n",
       "      <td>Indore</td>\n",
       "      <td>IN.MP.IN</td>\n",
       "      <td>1.324605</td>\n",
       "      <td>1.324605</td>\n",
       "      <td>0.066867</td>\n",
       "      <td>Kharif</td>\n",
       "      <td>...</td>\n",
       "      <td>0.0</td>\n",
       "      <td>0.0</td>\n",
       "      <td>0.0</td>\n",
       "      <td>10.0</td>\n",
       "      <td>0.0</td>\n",
       "      <td>0.0</td>\n",
       "      <td>0.0</td>\n",
       "      <td>17.0</td>\n",
       "      <td>Asia</td>\n",
       "      <td>POLYGON ((75.69350 22.81288, 75.69353 22.81413...</td>\n",
       "    </tr>\n",
       "    <tr>\n",
       "      <th>2135</th>\n",
       "      <td>1559</td>\n",
       "      <td>IND</td>\n",
       "      <td>India</td>\n",
       "      <td>Madhya Pradesh</td>\n",
       "      <td>Neemuch</td>\n",
       "      <td>IN.MP.NE</td>\n",
       "      <td>4.154339</td>\n",
       "      <td>4.154339</td>\n",
       "      <td>0.134925</td>\n",
       "      <td>Kharif</td>\n",
       "      <td>...</td>\n",
       "      <td>0.0</td>\n",
       "      <td>0.0</td>\n",
       "      <td>0.0</td>\n",
       "      <td>21.0</td>\n",
       "      <td>0.0</td>\n",
       "      <td>0.0</td>\n",
       "      <td>0.0</td>\n",
       "      <td>44.0</td>\n",
       "      <td>Asia</td>\n",
       "      <td>POLYGON ((74.75378 24.57838, 74.75154 24.58611...</td>\n",
       "    </tr>\n",
       "    <tr>\n",
       "      <th>2136</th>\n",
       "      <td>1560</td>\n",
       "      <td>IND</td>\n",
       "      <td>India</td>\n",
       "      <td>Puducherry</td>\n",
       "      <td>Yanam</td>\n",
       "      <td>IN.PY.YA</td>\n",
       "      <td>0.506708</td>\n",
       "      <td>0.506708</td>\n",
       "      <td>0.002674</td>\n",
       "      <td>Kharif</td>\n",
       "      <td>...</td>\n",
       "      <td>264.0</td>\n",
       "      <td>0.0</td>\n",
       "      <td>288.0</td>\n",
       "      <td>0.0</td>\n",
       "      <td>812.0</td>\n",
       "      <td>0.0</td>\n",
       "      <td>887.0</td>\n",
       "      <td>0.0</td>\n",
       "      <td>Asia</td>\n",
       "      <td>MULTIPOLYGON (((82.26569 16.70292, 82.26569 16...</td>\n",
       "    </tr>\n",
       "  </tbody>\n",
       "</table>\n",
       "<p>1183 rows × 95 columns</p>\n",
       "</div>"
      ],
      "text/plain": [
       "      OBJECTID  ISO COUNTRY          REGION  SUB_REGION      HASC  Shape_Leng  \\\n",
       "0            1  BRN  Brunei          Belait      Belait     BN.BE    2.614166   \n",
       "1            2  BTN  Bhutan        Bumthang    Bumthang     BT.BU    2.650571   \n",
       "2            3  BTN  Bhutan         Chhukha     Chhukha     BT.CK    2.462051   \n",
       "3            4  BTN  Bhutan         Chirang     Chirang     BT.CR    1.360309   \n",
       "4            5  BTN  Bhutan            Daga        Daga     BT.DA    1.844243   \n",
       "...        ...  ...     ...             ...         ...       ...         ...   \n",
       "2132      1556  IND   India     Maharashtra  Aurangabad  IN.MH.AU    8.388770   \n",
       "2133      1557  IND   India     Maharashtra       Jalna  IN.MH.JN    5.480544   \n",
       "2134      1558  IND   India  Madhya Pradesh      Indore  IN.MP.IN    1.324605   \n",
       "2135      1559  IND   India  Madhya Pradesh     Neemuch  IN.MP.NE    4.154339   \n",
       "2136      1560  IND   India      Puducherry       Yanam  IN.PY.YA    0.506708   \n",
       "\n",
       "      Shape_Le_1  Shape_Area   NAME1  ...    A_Q1 A_Q2   A_Q3    A_Q4    P_Q1  \\\n",
       "0       2.614166    0.231650    Main  ...  1862.0  0.0    0.0     0.0  1119.0   \n",
       "1       2.650571    0.254616    Main  ...     0.0  0.0    0.0    15.0     0.0   \n",
       "2       2.462051    0.159026    Main  ...     0.0  0.0    0.0  1130.0     0.0   \n",
       "3       1.360309    0.056008    Main  ...     0.0  0.0    0.0  1669.0     0.0   \n",
       "4       1.844243    0.121813    Main  ...     0.0  0.0    0.0  2377.0     0.0   \n",
       "...          ...         ...     ...  ...     ...  ...    ...     ...     ...   \n",
       "2132    8.388770    0.577789  Kharif  ...     0.0  0.0    0.0   589.0     0.0   \n",
       "2133    5.480544    0.474685  Kharif  ...     0.0  0.0    0.0   688.0     0.0   \n",
       "2134    1.324605    0.066867  Kharif  ...     0.0  0.0    0.0    10.0     0.0   \n",
       "2135    4.154339    0.134925  Kharif  ...     0.0  0.0    0.0    21.0     0.0   \n",
       "2136    0.506708    0.002674  Kharif  ...   264.0  0.0  288.0     0.0   812.0   \n",
       "\n",
       "      P_Q2   P_Q3    P_Q4  CONTINENT  \\\n",
       "0      0.0    0.0     0.0       Asia   \n",
       "1      0.0    0.0    94.0       Asia   \n",
       "2      0.0    0.0  3196.0       Asia   \n",
       "3      0.0    0.0  3844.0       Asia   \n",
       "4      0.0    0.0  6306.0       Asia   \n",
       "...    ...    ...     ...        ...   \n",
       "2132   0.0    0.0   316.0       Asia   \n",
       "2133   0.0    0.0   474.0       Asia   \n",
       "2134   0.0    0.0    17.0       Asia   \n",
       "2135   0.0    0.0    44.0       Asia   \n",
       "2136   0.0  887.0     0.0       Asia   \n",
       "\n",
       "                                               geometry  \n",
       "0     POLYGON ((114.52955 4.71594, 114.52980 4.71531...  \n",
       "1     POLYGON ((90.70934 28.08933, 90.71093 28.08835...  \n",
       "2     POLYGON ((89.58981 27.24489, 89.59187 27.24487...  \n",
       "3     POLYGON ((90.15416 27.15287, 90.15668 27.15251...  \n",
       "4     POLYGON ((89.79521 27.26359, 89.79643 27.26202...  \n",
       "...                                                 ...  \n",
       "2132  MULTIPOLYGON (((74.82336 20.24531, 74.82691 20...  \n",
       "2133  POLYGON ((76.02627 20.64548, 76.03284 20.64016...  \n",
       "2134  POLYGON ((75.69350 22.81288, 75.69353 22.81413...  \n",
       "2135  POLYGON ((74.75378 24.57838, 74.75154 24.58611...  \n",
       "2136  MULTIPOLYGON (((82.26569 16.70292, 82.26569 16...  \n",
       "\n",
       "[1183 rows x 95 columns]"
      ]
     },
     "execution_count": 3,
     "metadata": {},
     "output_type": "execute_result"
    }
   ],
   "source": [
    "from src.RiceAtlas import ra\n",
    "\n",
    "ra"
   ]
  },
  {
   "cell_type": "code",
   "execution_count": 4,
   "metadata": {
    "lines_to_next_cell": 2
   },
   "outputs": [],
   "source": [
    "# Reduce scope of RiceAtlas data\n",
    "ra = ra[ra.CONTINENT == \"Asia\"]"
   ]
  },
  {
   "cell_type": "markdown",
   "metadata": {},
   "source": [
    "RiceAtlas has one row per location. The locations have geometries\n",
    "provided. Some are much larger that others.\n",
    "\n",
    "Within each row, there is information for multiple cropping seasons.\n",
    "For example, the columns 'P_S1', 'P_S2', and 'P_S3', give production\n",
    "in the first, second and third cropping season.\n",
    "The number of columns does not change between rows, and there are\n",
    "always entries for 3 cropping seasons. If there are not 3 croppping\n",
    "seasons in a location, then the production will be 0 for that season."
   ]
  },
  {
   "cell_type": "code",
   "execution_count": 5,
   "metadata": {
    "lines_to_next_cell": 2
   },
   "outputs": [
    {
     "data": {
      "text/html": [
       "<div>\n",
       "<style scoped>\n",
       "    .dataframe tbody tr th:only-of-type {\n",
       "        vertical-align: middle;\n",
       "    }\n",
       "\n",
       "    .dataframe tbody tr th {\n",
       "        vertical-align: top;\n",
       "    }\n",
       "\n",
       "    .dataframe thead th {\n",
       "        text-align: right;\n",
       "    }\n",
       "</style>\n",
       "<table border=\"1\" class=\"dataframe\">\n",
       "  <thead>\n",
       "    <tr style=\"text-align: right;\">\n",
       "      <th></th>\n",
       "      <th>COUNTRY</th>\n",
       "      <th>REGION</th>\n",
       "      <th>SUB_REGION</th>\n",
       "      <th>P_S1</th>\n",
       "      <th>P_S2</th>\n",
       "      <th>P_S3</th>\n",
       "    </tr>\n",
       "  </thead>\n",
       "  <tbody>\n",
       "    <tr>\n",
       "      <th>1826</th>\n",
       "      <td>India</td>\n",
       "      <td>Madhya Pradesh</td>\n",
       "      <td>Ashoknagar</td>\n",
       "      <td>972.0</td>\n",
       "      <td>0.0</td>\n",
       "      <td>0.0</td>\n",
       "    </tr>\n",
       "    <tr>\n",
       "      <th>2064</th>\n",
       "      <td>India</td>\n",
       "      <td>West Bengal</td>\n",
       "      <td>Kochbihar</td>\n",
       "      <td>34880.0</td>\n",
       "      <td>654445.0</td>\n",
       "      <td>142767.0</td>\n",
       "    </tr>\n",
       "    <tr>\n",
       "      <th>1776</th>\n",
       "      <td>India</td>\n",
       "      <td>Jharkhand</td>\n",
       "      <td>Giridih</td>\n",
       "      <td>348910.0</td>\n",
       "      <td>13888.0</td>\n",
       "      <td>0.0</td>\n",
       "    </tr>\n",
       "    <tr>\n",
       "      <th>1632</th>\n",
       "      <td>India</td>\n",
       "      <td>Assam</td>\n",
       "      <td>Kamrup</td>\n",
       "      <td>172286.0</td>\n",
       "      <td>96354.0</td>\n",
       "      <td>41894.0</td>\n",
       "    </tr>\n",
       "    <tr>\n",
       "      <th>1827</th>\n",
       "      <td>India</td>\n",
       "      <td>Madhya Pradesh</td>\n",
       "      <td>Balaghat</td>\n",
       "      <td>515417.0</td>\n",
       "      <td>0.0</td>\n",
       "      <td>0.0</td>\n",
       "    </tr>\n",
       "    <tr>\n",
       "      <th>33</th>\n",
       "      <td>South Korea</td>\n",
       "      <td>Gyeonggi-do</td>\n",
       "      <td>Gyeonggi-do</td>\n",
       "      <td>693708.0</td>\n",
       "      <td>0.0</td>\n",
       "      <td>0.0</td>\n",
       "    </tr>\n",
       "    <tr>\n",
       "      <th>2111</th>\n",
       "      <td>India</td>\n",
       "      <td>Maharashtra</td>\n",
       "      <td>Gondiya</td>\n",
       "      <td>402820.0</td>\n",
       "      <td>0.0</td>\n",
       "      <td>0.0</td>\n",
       "    </tr>\n",
       "    <tr>\n",
       "      <th>541</th>\n",
       "      <td>China</td>\n",
       "      <td>Guizhou</td>\n",
       "      <td>Guizhou</td>\n",
       "      <td>4651179.0</td>\n",
       "      <td>0.0</td>\n",
       "      <td>23722.0</td>\n",
       "    </tr>\n",
       "    <tr>\n",
       "      <th>1698</th>\n",
       "      <td>India</td>\n",
       "      <td>Goa</td>\n",
       "      <td>North Goa</td>\n",
       "      <td>152174.0</td>\n",
       "      <td>0.0</td>\n",
       "      <td>0.0</td>\n",
       "    </tr>\n",
       "    <tr>\n",
       "      <th>873</th>\n",
       "      <td>Nepal</td>\n",
       "      <td>Lumbini</td>\n",
       "      <td>Palpa</td>\n",
       "      <td>24271.0</td>\n",
       "      <td>0.0</td>\n",
       "      <td>0.0</td>\n",
       "    </tr>\n",
       "  </tbody>\n",
       "</table>\n",
       "</div>"
      ],
      "text/plain": [
       "          COUNTRY          REGION   SUB_REGION       P_S1      P_S2      P_S3\n",
       "1826        India  Madhya Pradesh   Ashoknagar      972.0       0.0       0.0\n",
       "2064        India     West Bengal    Kochbihar    34880.0  654445.0  142767.0\n",
       "1776        India       Jharkhand      Giridih   348910.0   13888.0       0.0\n",
       "1632        India           Assam       Kamrup   172286.0   96354.0   41894.0\n",
       "1827        India  Madhya Pradesh     Balaghat   515417.0       0.0       0.0\n",
       "33    South Korea     Gyeonggi-do  Gyeonggi-do   693708.0       0.0       0.0\n",
       "2111        India     Maharashtra      Gondiya   402820.0       0.0       0.0\n",
       "541         China         Guizhou      Guizhou  4651179.0       0.0   23722.0\n",
       "1698        India             Goa    North Goa   152174.0       0.0       0.0\n",
       "873         Nepal         Lumbini        Palpa    24271.0       0.0       0.0"
      ]
     },
     "execution_count": 5,
     "metadata": {},
     "output_type": "execute_result"
    }
   ],
   "source": [
    "ra[[\"COUNTRY\", \"REGION\", \"SUB_REGION\", \"P_S1\", \"P_S2\", \"P_S3\"]].sample(10)"
   ]
  },
  {
   "cell_type": "markdown",
   "metadata": {
    "lines_to_next_cell": 2
   },
   "source": [
    "## CMIP6\n",
    "Using the latest generation of climate models, we look for trends in\n",
    "local changes in WBGT against global climate change.\n",
    "\n",
    "In this example, we only use one model.\n",
    "\n",
    "* 'tas' = mean near-surface air temperature (Kelvin)\n",
    "* 'tasmax' = max near-surface air temperature (Kelvin)\n",
    "* 'huss' = humidity ratio (dimensionless)\n",
    "* 'ps' = near-surface pressure (Pa)\n",
    "\n",
    "\n",
    "See references re. CMIP6:\n",
    "* [Eyring, V. et al., 2016](https://doi.org/10.5194/gmd-9-1937-2016)\n",
    "* [O’Neill, B. C. et al., 2016](https://doi.org/10.5194/gmd-9-3461-2016)"
   ]
  },
  {
   "cell_type": "markdown",
   "metadata": {},
   "source": [
    "Use intake to access pangeo catalogue, get data from GCS."
   ]
  },
  {
   "cell_type": "code",
   "execution_count": 6,
   "metadata": {},
   "outputs": [],
   "source": [
    "cat = open_catalog(\"https://raw.githubusercontent.com/pangeo-data/pangeo-datastore/master/intake-catalogs/master.yaml\")"
   ]
  },
  {
   "cell_type": "code",
   "execution_count": 7,
   "metadata": {},
   "outputs": [
    {
     "name": "stderr",
     "output_type": "stream",
     "text": [
      "/anaconda/envs/riceheat/lib/python3.8/site-packages/intake/catalog/entry.py:77: DtypeWarning: Columns (10) have mixed types.Specify dtype option on import or set low_memory=False.\n",
      "  s = self.get(**kwargs)\n"
     ]
    },
    {
     "name": "stdout",
     "output_type": "stream",
     "text": [
      "\n",
      "--> The keys in the returned dictionary of datasets are constructed as follows:\n",
      "\t'activity_id.institution_id.source_id.experiment_id.table_id.grid_label'\n"
     ]
    },
    {
     "data": {
      "text/html": [
       "\n",
       "    <div>\n",
       "        <style>\n",
       "            /* Turns off some styling */\n",
       "            progress {\n",
       "                /* gets rid of default border in Firefox and Opera. */\n",
       "                border: none;\n",
       "                /* Needs to be in here for Safari polyfill so background images work as expected. */\n",
       "                background-size: auto;\n",
       "            }\n",
       "            .progress-bar-interrupted, .progress-bar-interrupted::-webkit-progress-bar {\n",
       "                background: #F44336;\n",
       "            }\n",
       "        </style>\n",
       "      <progress value='2' class='' max='2' style='width:300px; height:20px; vertical-align: middle;'></progress>\n",
       "      100.00% [2/2 00:00<00:00]\n",
       "    </div>\n",
       "    "
      ],
      "text/plain": [
       "<IPython.core.display.HTML object>"
      ]
     },
     "metadata": {},
     "output_type": "display_data"
    },
    {
     "data": {
      "text/plain": [
       "{'ScenarioMIP.MOHC.UKESM1-0-LL.ssp245.Amon.gn': <xarray.Dataset>\n",
       " Dimensions:    (bnds: 2, lat: 144, lon: 192, member_id: 1, time: 1032)\n",
       " Coordinates:\n",
       "     height     float64 1.5\n",
       "   * lat        (lat) float64 -89.38 -88.12 -86.88 -85.62 ... 86.88 88.12 89.38\n",
       "     lat_bnds   (lat, bnds) float64 dask.array<chunksize=(144, 2), meta=np.ndarray>\n",
       "   * lon        (lon) float64 0.9375 2.812 4.688 6.562 ... 355.3 357.2 359.1\n",
       "     lon_bnds   (lon, bnds) float64 dask.array<chunksize=(192, 2), meta=np.ndarray>\n",
       "   * time       (time) object 2015-01-16 00:00:00 ... 2100-12-16 00:00:00\n",
       "     time_bnds  (time, bnds) object dask.array<chunksize=(1032, 2), meta=np.ndarray>\n",
       "   * member_id  (member_id) <U8 'r1i1p1f2'\n",
       " Dimensions without coordinates: bnds\n",
       " Data variables:\n",
       "     huss       (member_id, time, lat, lon) float32 dask.array<chunksize=(1, 600, 144, 192), meta=np.ndarray>\n",
       "     ps         (member_id, time, lat, lon) float32 dask.array<chunksize=(1, 600, 144, 192), meta=np.ndarray>\n",
       "     tas        (member_id, time, lat, lon) float32 dask.array<chunksize=(1, 600, 144, 192), meta=np.ndarray>\n",
       "     tasmax     (member_id, time, lat, lon) float32 dask.array<chunksize=(1, 600, 144, 192), meta=np.ndarray>\n",
       " Attributes:\n",
       "     parent_mip_era:          CMIP6\n",
       "     institution_id:          MOHC\n",
       "     frequency:               mon\n",
       "     experiment_id:           ssp245\n",
       "     further_info_url:        https://furtherinfo.es-doc.org/CMIP6.MOHC.UKESM1...\n",
       "     activity_id:             ScenarioMIP\n",
       "     branch_time_in_child:    59400.0\n",
       "     parent_variant_label:    r1i1p1f2\n",
       "     physics_index:           1\n",
       "     product:                 model-output\n",
       "     experiment:              update of RCP4.5 based on SSP2\n",
       "     sub_experiment_id:       none\n",
       "     license:                 CMIP6 model data produced by the Met Office Hadl...\n",
       "     parent_experiment_id:    historical\n",
       "     parent_source_id:        UKESM1-0-LL\n",
       "     realization_index:       1\n",
       "     institution:             Met Office Hadley Centre, Fitzroy Road, Exeter, ...\n",
       "     tracking_id:             hdl:21.14100/c670912b-d57d-4ab5-8bfa-47f5a4b89a8...\n",
       "     forcing_index:           2\n",
       "     Conventions:             CF-1.7 CMIP-6.2\n",
       "     source:                  UKESM1.0-LL (2018): \\naerosol: UKCA-GLOMAP-mode\\...\n",
       "     source_type:             AOGCM AER BGC CHEM\n",
       "     mo_runid:                u-be537\n",
       "     external_variables:      areacella\n",
       "     nominal_resolution:      250 km\n",
       "     history:                 2019-04-18T14:07:08Z ; CMOR rewrote data to be c...\n",
       "     grid_label:              gn\n",
       "     mip_era:                 CMIP6\n",
       "     parent_time_units:       days since 1850-01-01-00-00-00\n",
       "     title:                   UKESM1-0-LL output prepared for CMIP6\n",
       "     sub_experiment:          none\n",
       "     variant_label:           r1i1p1f2\n",
       "     parent_activity_id:      CMIP\n",
       "     intake_esm_varname:      huss\\nps\\ntas\\ntasmax\n",
       "     cmor_version:            3.4.0\n",
       "     realm:                   atmos\n",
       "     cv_version:              6.2.20.1\n",
       "     source_id:               UKESM1-0-LL\n",
       "     branch_method:           standard\n",
       "     branch_time_in_parent:   59400.0\n",
       "     status:                  2019-10-25;created;by nhn2@columbia.edu\n",
       "     table_id:                Amon\n",
       "     data_specs_version:      01.00.29\n",
       "     grid:                    Native N96 grid; 192 x 144 longitude/latitude\n",
       "     initialization_index:    1\n",
       "     table_info:              Creation Date:(13 December 2018) MD5:2b12b5db6db...\n",
       "     intake_esm_dataset_key:  ScenarioMIP.MOHC.UKESM1-0-LL.ssp245.Amon.gn,\n",
       " 'CMIP.MOHC.UKESM1-0-LL.historical.Amon.gn': <xarray.Dataset>\n",
       " Dimensions:    (bnds: 2, lat: 144, lon: 192, member_id: 1, time: 1980)\n",
       " Coordinates:\n",
       "     height     float64 1.5\n",
       "   * lat        (lat) float64 -89.38 -88.12 -86.88 -85.62 ... 86.88 88.12 89.38\n",
       "     lat_bnds   (lat, bnds) float64 dask.array<chunksize=(144, 2), meta=np.ndarray>\n",
       "   * lon        (lon) float64 0.9375 2.812 4.688 6.562 ... 355.3 357.2 359.1\n",
       "     lon_bnds   (lon, bnds) float64 dask.array<chunksize=(192, 2), meta=np.ndarray>\n",
       "   * time       (time) object 1850-01-16 00:00:00 ... 2014-12-16 00:00:00\n",
       "     time_bnds  (time, bnds) object dask.array<chunksize=(1980, 2), meta=np.ndarray>\n",
       "   * member_id  (member_id) <U8 'r1i1p1f2'\n",
       " Dimensions without coordinates: bnds\n",
       " Data variables:\n",
       "     huss       (member_id, time, lat, lon) float32 dask.array<chunksize=(1, 600, 144, 192), meta=np.ndarray>\n",
       "     ps         (member_id, time, lat, lon) float32 dask.array<chunksize=(1, 600, 144, 192), meta=np.ndarray>\n",
       "     tas        (member_id, time, lat, lon) float32 dask.array<chunksize=(1, 600, 144, 192), meta=np.ndarray>\n",
       "     tasmax     (member_id, time, lat, lon) float32 dask.array<chunksize=(1, 600, 144, 192), meta=np.ndarray>\n",
       " Attributes:\n",
       "     parent_mip_era:          CMIP6\n",
       "     institution_id:          MOHC\n",
       "     frequency:               mon\n",
       "     experiment_id:           historical\n",
       "     further_info_url:        https://furtherinfo.es-doc.org/CMIP6.MOHC.UKESM1...\n",
       "     activity_id:             CMIP\n",
       "     branch_time_in_child:    0.0\n",
       "     parent_variant_label:    r1i1p1f2\n",
       "     physics_index:           1\n",
       "     product:                 model-output\n",
       "     experiment:              all-forcing simulation of the recent past\n",
       "     sub_experiment_id:       none\n",
       "     license:                 CMIP6 model data produced by the Met Office Hadl...\n",
       "     parent_experiment_id:    piControl\n",
       "     parent_source_id:        UKESM1-0-LL\n",
       "     realization_index:       1\n",
       "     institution:             Met Office Hadley Centre, Fitzroy Road, Exeter, ...\n",
       "     tracking_id:             hdl:21.14100/10026dba-0e3d-4f0c-b0d1-e42d57b638a...\n",
       "     forcing_index:           2\n",
       "     Conventions:             CF-1.7 CMIP-6.2\n",
       "     source:                  UKESM1.0-LL (2018): \\naerosol: UKCA-GLOMAP-mode\\...\n",
       "     source_type:             AOGCM AER BGC CHEM\n",
       "     mo_runid:                u-bc179\n",
       "     external_variables:      areacella\n",
       "     nominal_resolution:      250 km\n",
       "     history:                 2019-04-05T15:50:03Z ; CMOR rewrote data to be c...\n",
       "     grid_label:              gn\n",
       "     mip_era:                 CMIP6\n",
       "     parent_time_units:       days since 1850-01-01-00-00-00\n",
       "     title:                   UKESM1-0-LL output prepared for CMIP6\n",
       "     sub_experiment:          none\n",
       "     variant_label:           r1i1p1f2\n",
       "     parent_activity_id:      CMIP\n",
       "     intake_esm_varname:      huss\\nps\\ntas\\ntasmax\n",
       "     cmor_version:            3.4.0\n",
       "     realm:                   atmos\n",
       "     cv_version:              6.2.20.1\n",
       "     source_id:               UKESM1-0-LL\n",
       "     branch_method:           standard\n",
       "     branch_time_in_parent:   144000.0\n",
       "     status:                  2019-10-25;created;by nhn2@columbia.edu\n",
       "     table_id:                Amon\n",
       "     data_specs_version:      01.00.29\n",
       "     grid:                    Native N96 grid; 192 x 144 longitude/latitude\n",
       "     initialization_index:    1\n",
       "     table_info:              Creation Date:(13 December 2018) MD5:2b12b5db6db...\n",
       "     intake_esm_dataset_key:  CMIP.MOHC.UKESM1-0-LL.historical.Amon.gn}"
      ]
     },
     "execution_count": 7,
     "metadata": {},
     "output_type": "execute_result"
    }
   ],
   "source": [
    "CMIP6_variables = [\"tas\", \"tasmax\", \"huss\", \"ps\"]\n",
    "CMIP6_experiments = [\"historical\", \"ssp245\"]\n",
    "CMIP6_search = {\n",
    "#     \"activity_id\": \"CMIP6\",\n",
    "    \"source_id\": \"UKESM1-0-LL\",\n",
    "    \"experiment_id\": CMIP6_experiments,\n",
    "    \"variable_id\": CMIP6_variables,\n",
    "    \"table_id\": \"Amon\",\n",
    "    \"grid_label\": \"gn\",\n",
    "    \"member_id\": \"r1i1p1f2\",\n",
    "}\n",
    "\n",
    "cat_return = cat.climate.cmip6_gcs.search(**CMIP6_search)\n",
    "ds_dict = cat_return.to_dataset_dict(zarr_kwargs={\"consolidated\": True})\n",
    "ds_dict"
   ]
  },
  {
   "cell_type": "code",
   "execution_count": 14,
   "metadata": {},
   "outputs": [],
   "source": [
    "ds = xr.concat(ds_dict.values(), dim='time').drop('height').squeeze()"
   ]
  },
  {
   "cell_type": "code",
   "execution_count": 20,
   "metadata": {},
   "outputs": [
    {
     "data": {
      "text/plain": [
       "dict_values([<xarray.Dataset>\n",
       "Dimensions:    (bnds: 2, lat: 144, lon: 192, member_id: 1, time: 1032)\n",
       "Coordinates:\n",
       "    height     float64 1.5\n",
       "  * lat        (lat) float64 -89.38 -88.12 -86.88 -85.62 ... 86.88 88.12 89.38\n",
       "    lat_bnds   (lat, bnds) float64 dask.array<chunksize=(144, 2), meta=np.ndarray>\n",
       "  * lon        (lon) float64 0.9375 2.812 4.688 6.562 ... 355.3 357.2 359.1\n",
       "    lon_bnds   (lon, bnds) float64 dask.array<chunksize=(192, 2), meta=np.ndarray>\n",
       "  * time       (time) object 2015-01-16 00:00:00 ... 2100-12-16 00:00:00\n",
       "    time_bnds  (time, bnds) object dask.array<chunksize=(1032, 2), meta=np.ndarray>\n",
       "  * member_id  (member_id) <U8 'r1i1p1f2'\n",
       "Dimensions without coordinates: bnds\n",
       "Data variables:\n",
       "    huss       (member_id, time, lat, lon) float32 dask.array<chunksize=(1, 600, 144, 192), meta=np.ndarray>\n",
       "    ps         (member_id, time, lat, lon) float32 dask.array<chunksize=(1, 600, 144, 192), meta=np.ndarray>\n",
       "    tas        (member_id, time, lat, lon) float32 dask.array<chunksize=(1, 600, 144, 192), meta=np.ndarray>\n",
       "    tasmax     (member_id, time, lat, lon) float32 dask.array<chunksize=(1, 600, 144, 192), meta=np.ndarray>\n",
       "Attributes:\n",
       "    parent_mip_era:          CMIP6\n",
       "    institution_id:          MOHC\n",
       "    frequency:               mon\n",
       "    experiment_id:           ssp245\n",
       "    further_info_url:        https://furtherinfo.es-doc.org/CMIP6.MOHC.UKESM1...\n",
       "    activity_id:             ScenarioMIP\n",
       "    branch_time_in_child:    59400.0\n",
       "    parent_variant_label:    r1i1p1f2\n",
       "    physics_index:           1\n",
       "    product:                 model-output\n",
       "    experiment:              update of RCP4.5 based on SSP2\n",
       "    sub_experiment_id:       none\n",
       "    license:                 CMIP6 model data produced by the Met Office Hadl...\n",
       "    parent_experiment_id:    historical\n",
       "    parent_source_id:        UKESM1-0-LL\n",
       "    realization_index:       1\n",
       "    institution:             Met Office Hadley Centre, Fitzroy Road, Exeter, ...\n",
       "    tracking_id:             hdl:21.14100/c670912b-d57d-4ab5-8bfa-47f5a4b89a8...\n",
       "    forcing_index:           2\n",
       "    Conventions:             CF-1.7 CMIP-6.2\n",
       "    source:                  UKESM1.0-LL (2018): \\naerosol: UKCA-GLOMAP-mode\\...\n",
       "    source_type:             AOGCM AER BGC CHEM\n",
       "    mo_runid:                u-be537\n",
       "    external_variables:      areacella\n",
       "    nominal_resolution:      250 km\n",
       "    history:                 2019-04-18T14:07:08Z ; CMOR rewrote data to be c...\n",
       "    grid_label:              gn\n",
       "    mip_era:                 CMIP6\n",
       "    parent_time_units:       days since 1850-01-01-00-00-00\n",
       "    title:                   UKESM1-0-LL output prepared for CMIP6\n",
       "    sub_experiment:          none\n",
       "    variant_label:           r1i1p1f2\n",
       "    parent_activity_id:      CMIP\n",
       "    intake_esm_varname:      huss\\nps\\ntas\\ntasmax\n",
       "    cmor_version:            3.4.0\n",
       "    realm:                   atmos\n",
       "    cv_version:              6.2.20.1\n",
       "    source_id:               UKESM1-0-LL\n",
       "    branch_method:           standard\n",
       "    branch_time_in_parent:   59400.0\n",
       "    status:                  2019-10-25;created;by nhn2@columbia.edu\n",
       "    table_id:                Amon\n",
       "    data_specs_version:      01.00.29\n",
       "    grid:                    Native N96 grid; 192 x 144 longitude/latitude\n",
       "    initialization_index:    1\n",
       "    table_info:              Creation Date:(13 December 2018) MD5:2b12b5db6db...\n",
       "    intake_esm_dataset_key:  ScenarioMIP.MOHC.UKESM1-0-LL.ssp245.Amon.gn, <xarray.Dataset>\n",
       "Dimensions:    (bnds: 2, lat: 144, lon: 192, member_id: 1, time: 1980)\n",
       "Coordinates:\n",
       "    height     float64 1.5\n",
       "  * lat        (lat) float64 -89.38 -88.12 -86.88 -85.62 ... 86.88 88.12 89.38\n",
       "    lat_bnds   (lat, bnds) float64 dask.array<chunksize=(144, 2), meta=np.ndarray>\n",
       "  * lon        (lon) float64 0.9375 2.812 4.688 6.562 ... 355.3 357.2 359.1\n",
       "    lon_bnds   (lon, bnds) float64 dask.array<chunksize=(192, 2), meta=np.ndarray>\n",
       "  * time       (time) object 1850-01-16 00:00:00 ... 2014-12-16 00:00:00\n",
       "    time_bnds  (time, bnds) object dask.array<chunksize=(1980, 2), meta=np.ndarray>\n",
       "  * member_id  (member_id) <U8 'r1i1p1f2'\n",
       "Dimensions without coordinates: bnds\n",
       "Data variables:\n",
       "    huss       (member_id, time, lat, lon) float32 dask.array<chunksize=(1, 600, 144, 192), meta=np.ndarray>\n",
       "    ps         (member_id, time, lat, lon) float32 dask.array<chunksize=(1, 600, 144, 192), meta=np.ndarray>\n",
       "    tas        (member_id, time, lat, lon) float32 dask.array<chunksize=(1, 600, 144, 192), meta=np.ndarray>\n",
       "    tasmax     (member_id, time, lat, lon) float32 dask.array<chunksize=(1, 600, 144, 192), meta=np.ndarray>\n",
       "Attributes:\n",
       "    parent_mip_era:          CMIP6\n",
       "    institution_id:          MOHC\n",
       "    frequency:               mon\n",
       "    experiment_id:           historical\n",
       "    further_info_url:        https://furtherinfo.es-doc.org/CMIP6.MOHC.UKESM1...\n",
       "    activity_id:             CMIP\n",
       "    branch_time_in_child:    0.0\n",
       "    parent_variant_label:    r1i1p1f2\n",
       "    physics_index:           1\n",
       "    product:                 model-output\n",
       "    experiment:              all-forcing simulation of the recent past\n",
       "    sub_experiment_id:       none\n",
       "    license:                 CMIP6 model data produced by the Met Office Hadl...\n",
       "    parent_experiment_id:    piControl\n",
       "    parent_source_id:        UKESM1-0-LL\n",
       "    realization_index:       1\n",
       "    institution:             Met Office Hadley Centre, Fitzroy Road, Exeter, ...\n",
       "    tracking_id:             hdl:21.14100/10026dba-0e3d-4f0c-b0d1-e42d57b638a...\n",
       "    forcing_index:           2\n",
       "    Conventions:             CF-1.7 CMIP-6.2\n",
       "    source:                  UKESM1.0-LL (2018): \\naerosol: UKCA-GLOMAP-mode\\...\n",
       "    source_type:             AOGCM AER BGC CHEM\n",
       "    mo_runid:                u-bc179\n",
       "    external_variables:      areacella\n",
       "    nominal_resolution:      250 km\n",
       "    history:                 2019-04-05T15:50:03Z ; CMOR rewrote data to be c...\n",
       "    grid_label:              gn\n",
       "    mip_era:                 CMIP6\n",
       "    parent_time_units:       days since 1850-01-01-00-00-00\n",
       "    title:                   UKESM1-0-LL output prepared for CMIP6\n",
       "    sub_experiment:          none\n",
       "    variant_label:           r1i1p1f2\n",
       "    parent_activity_id:      CMIP\n",
       "    intake_esm_varname:      huss\\nps\\ntas\\ntasmax\n",
       "    cmor_version:            3.4.0\n",
       "    realm:                   atmos\n",
       "    cv_version:              6.2.20.1\n",
       "    source_id:               UKESM1-0-LL\n",
       "    branch_method:           standard\n",
       "    branch_time_in_parent:   144000.0\n",
       "    status:                  2019-10-25;created;by nhn2@columbia.edu\n",
       "    table_id:                Amon\n",
       "    data_specs_version:      01.00.29\n",
       "    grid:                    Native N96 grid; 192 x 144 longitude/latitude\n",
       "    initialization_index:    1\n",
       "    table_info:              Creation Date:(13 December 2018) MD5:2b12b5db6db...\n",
       "    intake_esm_dataset_key:  CMIP.MOHC.UKESM1-0-LL.historical.Amon.gn])"
      ]
     },
     "execution_count": 20,
     "metadata": {},
     "output_type": "execute_result"
    }
   ],
   "source": [
    "ds_dict.values()"
   ]
  },
  {
   "cell_type": "code",
   "execution_count": 23,
   "metadata": {},
   "outputs": [],
   "source": [
    "ds = xr.combine_by_coords(ds_dict.values(), combine_attrs='drop').drop('height').squeeze()"
   ]
  },
  {
   "cell_type": "markdown",
   "metadata": {},
   "source": [
    "## Climate Change\n",
    "Calculate global mean surface air temperature, i.e. global climate change.\n",
    "\n",
    "Even if you decide to do the rest of the analysis with daily data, I think\n",
    "there is no reason not to use monthly data for this.\n",
    "\n",
    "Note that ds gets mutated further down in this script, so be careful\n",
    "running these cells out of order.."
   ]
  },
  {
   "cell_type": "code",
   "execution_count": 25,
   "metadata": {},
   "outputs": [
    {
     "data": {
      "text/plain": [
       "[<matplotlib.lines.Line2D at 0x7fb5f9fcd5e0>]"
      ]
     },
     "execution_count": 25,
     "metadata": {},
     "output_type": "execute_result"
    },
    {
     "data": {
      "image/png": "[encoded data removed]",
      "text/plain": [
       "<Figure size 432x288 with 1 Axes>"
      ]
     },
     "metadata": {
      "needs_background": "light"
     },
     "output_type": "display_data"
    }
   ],
   "source": [
    "weights = np.cos(np.deg2rad(ds.lat))  # To account area in spherical coordinates.\n",
    "gsat = (\n",
    "    ds[\"tas\"].weighted(weights).mean((\"lat\", \"lon\")).resample(time=\"Y\").mean().compute()\n",
    ")\n",
    "gsat_reference = gsat.sel(time=slice(\"1850\", \"1900\")).mean(\"time\")\n",
    "gsat_change = (gsat - gsat_reference).groupby(\"time.year\").first()\n",
    "\n",
    "gsat_change.attrs['long_name'] = 'Global mean surface air temperature change'\n",
    "gsat_change.attrs['short_name'] = 'GSAT change'\n",
    "gsat_change.attrs['units'] = 'C'\n",
    "\n",
    "gsat_change.plot()"
   ]
  },
  {
   "cell_type": "code",
   "execution_count": 26,
   "metadata": {},
   "outputs": [],
   "source": [
    "# Temperatures are in kelvin by default - I want them in Celsius\n",
    "ds[\"tas\"] = ds[\"tas\"] + absolute_zero\n",
    "ds[\"tasmax\"] = ds[\"tasmax\"] + absolute_zero"
   ]
  },
  {
   "cell_type": "code",
   "execution_count": 27,
   "metadata": {},
   "outputs": [],
   "source": [
    "# Reduce scope of climate data for speed.\n",
    "# Based on the geographic limits of the RiceAtlas data we have selected.\n",
    "min_lon, min_lat, max_lon, max_lat = ra.total_bounds\n",
    "stepsize_lat = ds.lat.values[1] - ds.lat.values[0]\n",
    "stepsize_lon = ds.lon.values[1] - ds.lon.values[0]\n",
    "\n",
    "ds = ds.where(\n",
    "    (ds.lat >= min_lat - stepsize_lat)\n",
    "    & (ds.lat <= max_lat + stepsize_lat)\n",
    "    & (ds.lon >= min_lon - stepsize_lon)\n",
    "    & (ds.lon <= max_lon + stepsize_lon),\n",
    "    drop=True,\n",
    ")"
   ]
  },
  {
   "cell_type": "code",
   "execution_count": 28,
   "metadata": {
    "lines_to_next_cell": 2
   },
   "outputs": [],
   "source": [
    "# Add in date auxillaries\n",
    "# This is because direct access via cftime dummy is slow.\n",
    "ds[\"dayofyear\"] = ds.time.dt.dayofyear\n",
    "# If the calendar is only 360 days long (a common assumption in climate\n",
    "# models), then apply a correction to make it more like the 365 day\n",
    "# calendar.  This is not the most accurate method of correction, but it\n",
    "# is fast and easy to understand.\n",
    "if ds.dayofyear.max() == 360:\n",
    "    for day in (73, 145, 218, 291, 364):\n",
    "        ds[\"dayofyear\"][ds.dayofyear >= day] = ds.dayofyear[ds.dayofyear >= day] + 1"
   ]
  },
  {
   "cell_type": "markdown",
   "metadata": {},
   "source": [
    "## Heat stress index\n",
    "\n",
    "Many studies focussed on the risk of occupational heat stress use\n",
    "wet-bulb globe temperature (WBGT), which is a heat-stress index\n",
    "defined by ISO 7243. WBGT is intended to combine all the factors that\n",
    "affect the human experience of heat, namely air temperature, radiant\n",
    "temperature, humidity, and air velocity. As performing work\n",
    "generates heat, in a high WBGT environment labour must be reduced in\n",
    "order to maintain a safe body temperature.\n",
    "\n",
    "We use the [psychrolib](https://github.com/psychrometrics/psychrolib)\n",
    "software library, which implements formulae from the ASHRAE handbook, to\n",
    "calculate wet bulb temperature.\n",
    "\n",
    "We neglect irradiance by assuming that the black globe temperature is\n",
    "approximated by the air temperature. This will be approximately true in the\n",
    "shade.\n",
    "WBGT in sunny weather will be underestimated, but we are focussed on long\n",
    "term trends, and trends in irradiance are not so clear as those in air\n",
    "temperature and humidity.\n",
    "\n",
    "See references:\n",
    "* [Parsons, K., 2006](https://doi.org/10.2486/indhealth.44.368)\n",
    "* [Parsons, K., 2013](https://doi.org/10.2486/indhealth.2012-0165)\n",
    "* [Lemke, B. & Kjellstrom, T.](https://doi.org/10.2486/indhealth.ms1352)"
   ]
  },
  {
   "cell_type": "code",
   "execution_count": 29,
   "metadata": {},
   "outputs": [],
   "source": [
    "# This is a delayed computation, so will return quickly.\n",
    "for WBGT, WBT, Ta in (\n",
    "    (\"wbgt_max\", \"wbt_max\", \"tasmax\"),\n",
    "    (\"wbgt_mean\", \"wbt_mean\", \"tas\"),\n",
    "):\n",
    "    # Specify WBT calculation, using psychrolib.\n",
    "    ds[WBT] = xr.apply_ufunc(\n",
    "        GetTWetBulbFromHumRatio,\n",
    "        ds[Ta],\n",
    "        ds[\"huss\"],\n",
    "        ds[\"ps\"],\n",
    "        dask=\"parallelized\",\n",
    "        output_dtypes=[float],\n",
    "    )\n",
    "\n",
    "    # Calculate WBGT, assuming the black globe temperature is approximated by the\n",
    "    # air temperature. This will be approximately true in the shade.\n",
    "    ds[WBGT] = ds[WBT] * 0.7 + ds[Ta] * 0.3\n",
    "ds[\"wbgt_mid\"] = (ds[\"wbgt_max\"] + ds[\"wbgt_mean\"]) / 2"
   ]
  },
  {
   "cell_type": "markdown",
   "metadata": {
    "lines_to_next_cell": 2
   },
   "source": [
    "## Labour effect\n",
    "\n",
    "Sahu et al observed a 5% per °C WBGT decrease in the labour capacity of\n",
    "labourers harvesting rice between 23-33 °C WBGT. Rate of collection was\n",
    "measured in 124 workers in groups of 10-18, and WBGT was measured in-situ, at\n",
    "a single location in India.\n",
    "We adopt this for our labour impact metric, and assume that this is\n",
    "representative of manual rice harvest labour.\n",
    "\n",
    "[Sahu, S. et al., 2013](https://doi.org/10.2486/indhealth.2013-0006)\n",
    "\n",
    "See also [Gosling, S. N., Zaherpour, J. & Ibarreta, D.](http://doi.org/10.2760/07911)\n",
    "\n",
    "Other labour impact functions are included in [../src/Labour.py](../src/Labour.py), so you\n",
    "could explore how the choice of labour impact function affects the results,\n",
    "and even define your own.\n",
    "\n",
    "The '4+4+4' assumption means that air temperature in the working day is\n",
    "assumed to be close to the maxmimum for 4 hours, the mean for 4 hours, and\n",
    "half-way between for 4 hours. This is a reasonably good approximation.\n",
    "This assumption comes from\n",
    "[Kjellstrom, T. et al., 2018](https://doi.org/10.1007/s00484-017-1407-0)\n"
   ]
  },
  {
   "cell_type": "code",
   "execution_count": 30,
   "metadata": {},
   "outputs": [],
   "source": [
    "# This is a delayed computation.\n",
    "for WBGT, labour in (\n",
    "    (\"wbgt_max\", \"labour_sahu_max\"),\n",
    "    (\"wbgt_mean\", \"labour_sahu_mean\"),\n",
    "    (\"wbgt_mid\", \"labour_sahu_mid\"),\n",
    "):\n",
    "    ds[labour] = xr.apply_ufunc(\n",
    "        labour_sahu, ds[WBGT], dask=\"parallelized\", output_dtypes=[float]\n",
    "    )"
   ]
  },
  {
   "cell_type": "code",
   "execution_count": 31,
   "metadata": {},
   "outputs": [],
   "source": [
    "# Apply 4+4+4 weighting to labour effect, to approximate sub-daily variation.\n",
    "ds[\"labour_sahu_444\"] = (\n",
    "    ds[\"labour_sahu_max\"] + ds[\"labour_sahu_mean\"] + ds[\"labour_sahu_mid\"]\n",
    ") / 3"
   ]
  },
  {
   "cell_type": "markdown",
   "metadata": {},
   "source": [
    "## Combining the data"
   ]
  },
  {
   "cell_type": "code",
   "execution_count": 32,
   "metadata": {},
   "outputs": [
    {
     "name": "stderr",
     "output_type": "stream",
     "text": [
      "<ipython-input-32-777f2490567e>:6: UserWarning: Geometry is in a geographic CRS. Results from 'centroid' are likely incorrect. Use 'GeoSeries.to_crs()' to re-project geometries to a projected CRS before this operation.\n",
      "\n",
      "  ra.centroid.x.values, dims=\"HASC\", coords={\"HASC\": ra.HASC.values}\n"
     ]
    }
   ],
   "source": [
    "# Spatially subset climate gridded data according to RiceAtlas\n",
    "# RiceAtlas is in WGS 84, so I think it's fine to use the lat/lon numbers directly\n",
    "# Using centroid only. Very fast, but less accurate for large regions.\n",
    "# The full analysis uses a more sophisticated method.\n",
    "ra_lons = xr.DataArray(\n",
    "    ra.centroid.x.values, dims=\"HASC\", coords={\"HASC\": ra.HASC.values}\n",
    ")\n",
    "ra_lats = xr.DataArray(\n",
    "    ra.centroid.y.values, dims=\"HASC\", coords={\"HASC\": ra.HASC.values}\n",
    ")\n",
    "ds_locations = ds.interp(lon=ra_lons, lat=ra_lats, method=\"nearest\")"
   ]
  },
  {
   "cell_type": "markdown",
   "metadata": {},
   "source": [
    "Temporally subset, according to dayofyear.\n",
    "\n",
    "HARV_ST1 is the start day of the first cropping season.\n",
    "HARV_END1 is the end day of the first cropping season.\n",
    "\n",
    "Create an xr.DataArray containing dates which meet the criteria for each region.\n",
    "The logic for this is imported from [../src/dayofyear.py]."
   ]
  },
  {
   "cell_type": "code",
   "execution_count": 33,
   "metadata": {},
   "outputs": [],
   "source": [
    "doy_mask = xr.DataArray(\n",
    "    np.array(\n",
    "        [\n",
    "            dayofyear_checker(\n",
    "                ra[f\"HARV_ST{season}\"].astype(int).values,\n",
    "                ra[f\"HARV_END{season}\"].astype(int).values,\n",
    "                ds_locations.dayofyear.values,\n",
    "            )\n",
    "            for season in (1, 2, 3)\n",
    "        ]\n",
    "    ),\n",
    "    dims=[\"seasonid\", \"HASC\", \"time\"],\n",
    "    coords={\"HASC\": ra.HASC, \"seasonid\": [1, 2, 3], \"time\": ds_locations.time},\n",
    ")\n",
    "ds_locations_seasons = ds_locations.where(doy_mask)"
   ]
  },
  {
   "cell_type": "markdown",
   "metadata": {},
   "source": [
    "Downsample to yearly mean.\n",
    "\n",
    "Because the harvest seasons have been selected, this will give annual results\n",
    "for each harvest season. That is, more than one season per year. In locations\n",
    "without multiple harvest seasons, the result will be 0."
   ]
  },
  {
   "cell_type": "code",
   "execution_count": 34,
   "metadata": {},
   "outputs": [],
   "source": [
    "ds_locations_seasons_annual = ds_locations_seasons.groupby(\"time.year\").mean()"
   ]
  },
  {
   "cell_type": "markdown",
   "metadata": {},
   "source": [
    "Weight the result according to rice harvest weight.\n",
    "P_S1 means the production of the first cropping season."
   ]
  },
  {
   "cell_type": "code",
   "execution_count": 35,
   "metadata": {},
   "outputs": [],
   "source": [
    "weights = xr.DataArray(\n",
    "    ra[[\"P_S1\", \"P_S2\", \"P_S3\"]].values,\n",
    "    dims=[\"HASC\", \"seasonid\"],\n",
    "    coords={\"HASC\": ra.HASC.values, \"seasonid\": [1, 2, 3]},\n",
    ")"
   ]
  },
  {
   "cell_type": "markdown",
   "metadata": {},
   "source": [
    "Do a weighted average summing over locations to get a single annual value for\n",
    "each cropping season."
   ]
  },
  {
   "cell_type": "code",
   "execution_count": 36,
   "metadata": {},
   "outputs": [
    {
     "name": "stderr",
     "output_type": "stream",
     "text": [
      "/anaconda/envs/riceheat/lib/python3.8/site-packages/dask/array/numpy_compat.py:40: RuntimeWarning: invalid value encountered in true_divide\n",
      "  x = np.divide(x1, x2, out)\n"
     ]
    }
   ],
   "source": [
    "# This is a somewhat slow cell, as computation is triggered.\n",
    "ds_weighted_annual = (\n",
    "    (ds_locations_seasons.groupby(\"time.year\").mean() * weights).sum((\"HASC\"))\n",
    "    / weights.sum(\"HASC\")\n",
    ").compute()"
   ]
  },
  {
   "cell_type": "code",
   "execution_count": 37,
   "metadata": {},
   "outputs": [
    {
     "data": {
      "text/plain": [
       "Text(0, 0.5, 'Labour impact (%)')"
      ]
     },
     "execution_count": 37,
     "metadata": {},
     "output_type": "execute_result"
    },
    {
     "data": {
      "image/png": "[encoded data removed]",
      "text/plain": [
       "<Figure size 432x288 with 1 Axes>"
      ]
     },
     "metadata": {
      "needs_background": "light"
     },
     "output_type": "display_data"
    }
   ],
   "source": [
    "# Plot the labour effect against year.\n",
    "ds_weighted_annual.plot.scatter(\"year\", \"labour_sahu_444\")\n",
    "plt.ylabel(\"Labour impact (%)\")"
   ]
  },
  {
   "cell_type": "markdown",
   "metadata": {},
   "source": [
    "There is clearly a long term trend. The data fall into two groups, as we haven't averaged over cropping seasons.\n",
    "\n",
    "Let's examine the long term trends in the labour effect."
   ]
  },
  {
   "cell_type": "code",
   "execution_count": 38,
   "metadata": {},
   "outputs": [
    {
     "name": "stderr",
     "output_type": "stream",
     "text": [
      "/anaconda/envs/riceheat/lib/python3.8/site-packages/dask/array/numpy_compat.py:40: RuntimeWarning: invalid value encountered in true_divide\n",
      "  x = np.divide(x1, x2, out)\n"
     ]
    }
   ],
   "source": [
    "# This is a somewhat slow cell, as computation is triggered.\n",
    "trend_window = 20  # how many years to average over to specify 'long-term'\n",
    "\n",
    "\n",
    "def year_ranges_masking(data: xr.Dataset, trend_window: int) -> xr.Dataset:\n",
    "    \"\"\"Select data in a certain year range.\"\"\"\n",
    "    year_min = data.year.min().item()\n",
    "    year_max = data.year.max().item()\n",
    "    period_starts = np.array(list(range(year_min, year_max, trend_window)))\n",
    "    period_middles = period_starts + trend_window / 2\n",
    "    mask = xr.DataArray(\n",
    "        [(data.year >= year) & (data.year > year + 20) for year in period_starts],\n",
    "        dims=(\"period\", \"year\",),\n",
    "        coords={\"year\": data.year, \"period\": period_middles},\n",
    "    )\n",
    "    return data.where(mask)\n",
    "\n",
    "\n",
    "ds_locations_seasons_periods = (\n",
    "    year_ranges_masking(ds_locations_seasons_annual, trend_window)\n",
    "    .mean(\"year\")\n",
    "    .compute()\n",
    ")"
   ]
  },
  {
   "cell_type": "markdown",
   "metadata": {},
   "source": [
    "Draw the time series of a couple of locations\n",
    "I didn't choose the locations systematically, this is just for illustration.\n",
    "We should see that some locations have a clear trend, and others don't."
   ]
  },
  {
   "cell_type": "code",
   "execution_count": 39,
   "metadata": {},
   "outputs": [
    {
     "data": {
      "text/plain": [
       "(0.0, 23.348042749672736)"
      ]
     },
     "execution_count": 39,
     "metadata": {},
     "output_type": "execute_result"
    },
    {
     "data": {
      "image/png": "[encoded data removed]",
      "text/plain": [
       "<Figure size 432x288 with 1 Axes>"
      ]
     },
     "metadata": {
      "needs_background": "light"
     },
     "output_type": "display_data"
    }
   ],
   "source": [
    "for HASC, data in (\n",
    "    ds_locations_seasons_periods.sel(seasonid=1).isel(HASC=[0, 5, 10]).groupby(\"HASC\")\n",
    "):\n",
    "    data.plot.scatter(\n",
    "        \"period\", \"labour_sahu_444\", label=ra.set_index(\"HASC\").loc[HASC].SUB_REGION\n",
    "    )\n",
    "plt.legend(loc=\"best\")\n",
    "plt.ylabel(\"Labour effect (%)\")\n",
    "plt.ylim(bottom=0)"
   ]
  },
  {
   "cell_type": "markdown",
   "metadata": {},
   "source": [
    "Is the long-term trend dominated by global changes in surface air temperature?\n",
    "If so, we would expect there to be a correlation, so let's plot the local\n",
    "changes against global warming, in long-term averages."
   ]
  },
  {
   "cell_type": "code",
   "execution_count": 40,
   "metadata": {},
   "outputs": [
    {
     "name": "stdout",
     "output_type": "stream",
     "text": [
      "LinregressResult(slope=3.8864191037335183, intercept=6.4758288875468875, rvalue=0.9997311714610526, pvalue=1.1051795149491577e-17, stderr=0.028502955365834193, intercept_stderr=0.07410095902975769)\n"
     ]
    },
    {
     "data": {
      "image/png": "[encoded data removed]",
      "text/plain": [
       "<Figure size 432x288 with 1 Axes>"
      ]
     },
     "metadata": {
      "needs_background": "light"
     },
     "output_type": "display_data"
    }
   ],
   "source": [
    "x = year_ranges_masking(gsat_change, trend_window).mean(\"year\").dropna(\"period\")\n",
    "y = (\n",
    "    ds_locations_seasons_periods.sel(seasonid=1)\n",
    "    .isel(HASC=0)[\"labour_sahu_444\"]\n",
    "    .dropna(\"period\")\n",
    ")\n",
    "\n",
    "fig, ax = plt.subplots()\n",
    "ax.scatter(x, y, label=ra.iloc[1].SUB_REGION)\n",
    "lr = stats.linregress(x, y)\n",
    "ax.plot(x, x * lr.slope + lr.intercept, label=\"Fit\")\n",
    "ax.set_xlabel(\"GSAT ($\\degree C$)\")\n",
    "ax.set_ylabel(\"Labour effect (%)\")\n",
    "ax.legend(loc=\"best\")\n",
    "print(lr)"
   ]
  },
  {
   "cell_type": "markdown",
   "metadata": {},
   "source": [
    "There is a clear correlation (at least in the cropping season-location that I\n",
    "selected for this example!).\n",
    "\n",
    "Does this explain all of the year-to-year variation? No, and we wouldn't expect it to.\n",
    "When we plot annual values instead of long-term averages. (This is at a single location again.)"
   ]
  },
  {
   "cell_type": "code",
   "execution_count": 41,
   "metadata": {},
   "outputs": [
    {
     "name": "stderr",
     "output_type": "stream",
     "text": [
      "/anaconda/envs/riceheat/lib/python3.8/site-packages/dask/array/numpy_compat.py:40: RuntimeWarning: invalid value encountered in true_divide\n",
      "  x = np.divide(x1, x2, out)\n",
      "/anaconda/envs/riceheat/lib/python3.8/site-packages/dask/array/numpy_compat.py:40: RuntimeWarning: invalid value encountered in true_divide\n",
      "  x = np.divide(x1, x2, out)\n",
      "/anaconda/envs/riceheat/lib/python3.8/site-packages/dask/array/numpy_compat.py:40: RuntimeWarning: invalid value encountered in true_divide\n",
      "  x = np.divide(x1, x2, out)\n",
      "/anaconda/envs/riceheat/lib/python3.8/site-packages/dask/array/numpy_compat.py:40: RuntimeWarning: invalid value encountered in true_divide\n",
      "  x = np.divide(x1, x2, out)\n",
      "/anaconda/envs/riceheat/lib/python3.8/site-packages/dask/array/numpy_compat.py:40: RuntimeWarning: invalid value encountered in true_divide\n",
      "  x = np.divide(x1, x2, out)\n",
      "/anaconda/envs/riceheat/lib/python3.8/site-packages/dask/array/numpy_compat.py:40: RuntimeWarning: invalid value encountered in true_divide\n",
      "  x = np.divide(x1, x2, out)\n"
     ]
    },
    {
     "name": "stdout",
     "output_type": "stream",
     "text": [
      "LinregressResult(slope=3.9829645991251414, intercept=6.214858629485263, rvalue=0.9694862367046956, pvalue=4.824120779992749e-154, stderr=0.06382480350098421, intercept_stderr=0.11322845262017114)\n"
     ]
    },
    {
     "data": {
      "image/png": "[encoded data removed]",
      "text/plain": [
       "<Figure size 432x288 with 1 Axes>"
      ]
     },
     "metadata": {
      "needs_background": "light"
     },
     "output_type": "display_data"
    }
   ],
   "source": [
    "# This is a somewhat slow cell, as computation is triggered.\n",
    "x = gsat_change\n",
    "y = ds_locations_seasons_annual.sel(seasonid=1).isel(HASC=0)[\"labour_sahu_444\"]\n",
    "plt.scatter(x, y, label=ra.iloc[1].SUB_REGION)\n",
    "lr = stats.linregress(x, y)\n",
    "plt.plot(x, x * lr.slope + lr.intercept, label=\"Fit\")\n",
    "plt.xlabel(\"GSAT ($\\degree C$)\")\n",
    "plt.ylabel(\"Labour effect (%)\")\n",
    "plt.legend(loc=\"best\")\n",
    "print(lr)"
   ]
  },
  {
   "cell_type": "markdown",
   "metadata": {},
   "source": [
    "The trend is not just present in a few individual locations.\n",
    "If we sum the effect across the whole region, weighting by rice production, we see a clear trend."
   ]
  },
  {
   "cell_type": "code",
   "execution_count": 42,
   "metadata": {},
   "outputs": [
    {
     "data": {
      "text/plain": [
       "Text(0, 0.5, 'Labour impact %')"
      ]
     },
     "execution_count": 42,
     "metadata": {},
     "output_type": "execute_result"
    },
    {
     "data": {
      "image/png": "[encoded data removed]",
      "text/plain": [
       "<Figure size 432x288 with 1 Axes>"
      ]
     },
     "metadata": {
      "needs_background": "light"
     },
     "output_type": "display_data"
    }
   ],
   "source": [
    "x = year_ranges_masking(gsat_change, trend_window).mean(\"year\").dropna(\"period\")\n",
    "y = ds_locations_seasons_periods[\"labour_sahu_444\"].sel(period=x.period)\n",
    "y_weighted = (y * weights).sum((\"seasonid\", \"HASC\")) / weights.sum()\n",
    "lr = stats.linregress(x, y_weighted)\n",
    "plt.scatter(x, y_weighted)\n",
    "plt.plot(x.values, (x * lr.slope + lr.intercept).values)\n",
    "plt.xlabel(\"GSAT ($\\degree C$)\")\n",
    "plt.ylabel(\"Labour impact %\")"
   ]
  },
  {
   "cell_type": "markdown",
   "metadata": {},
   "source": [
    "The trend isn't present in all cropping location-seasons.\n",
    "So, let's independently fit lines in each location-season, and see where the\n",
    "trend with respect to global warming is significant."
   ]
  },
  {
   "cell_type": "code",
   "execution_count": 43,
   "metadata": {},
   "outputs": [],
   "source": [
    "def fit_parallel(X: np.ndarray, Y: np.ndarray) -> np.ndarray:\n",
    "    \"\"\"Do a linear fit along the last axis.\"\"\"\n",
    "    A = np.apply_along_axis(lambda y: stats.linregress(X, y), -1, Y,)\n",
    "    return A\n",
    "\n",
    "\n",
    "def fit_parallel_wrapper(\n",
    "    x: xr.DataArray, y: xr.DataArray, dim: str = \"time\"\n",
    ") -> xr.DataArray:\n",
    "    \"\"\"Do a linear fit along an axis, independently in other dimensions.\n",
    "\n",
    "    Different outputs of the fit are arranged along a new dimension, to get\n",
    "    around the limitation that xr.apply_ufunc can only take a single variable\n",
    "    output.\n",
    "    \"\"\"\n",
    "    result = xr.apply_ufunc(\n",
    "        fit_parallel,\n",
    "        x,\n",
    "        y,\n",
    "        input_core_dims=[[dim], [dim]],\n",
    "        output_core_dims=[[\"linregress\"]],\n",
    "        dask=\"forbidden\",\n",
    "        output_dtypes=[float],\n",
    "    )\n",
    "    result = result.assign_coords(\n",
    "        {\"linregress\": [\"slope\", \"intercept\", \"rvalue\", \"pvalue\", \"stderr\"]}\n",
    "    )\n",
    "    return result\n",
    "\n",
    "\n",
    "x = year_ranges_masking(gsat_change, trend_window).mean(\"year\").dropna(\"period\")\n",
    "y = ds_locations_seasons_periods[\"labour_sahu_444\"].sel(period=x.period)\n",
    "ds_parallel_fit = fit_parallel_wrapper(x.load(), y.load(), \"period\")"
   ]
  },
  {
   "cell_type": "code",
   "execution_count": 44,
   "metadata": {},
   "outputs": [
    {
     "data": {
      "text/plain": [
       "Text(0, 0.5, 'Harvest affected (tonnes)')"
      ]
     },
     "execution_count": 44,
     "metadata": {},
     "output_type": "execute_result"
    },
    {
     "data": {
      "image/png": "[encoded data removed]",
      "text/plain": [
       "<Figure size 432x288 with 1 Axes>"
      ]
     },
     "metadata": {
      "needs_background": "light"
     },
     "output_type": "display_data"
    }
   ],
   "source": [
    "plt.hist(\n",
    "    ds_parallel_fit.sel(linregress=\"slope\").values.reshape(-1),\n",
    "    bins=np.linspace(-1, 10, 23),\n",
    "    weights=weights.values.reshape(-1),\n",
    ")\n",
    "plt.xlabel(\"Long-term hazard gradient (%/C)\")\n",
    "plt.ylabel(\"Harvest affected (tonnes)\")"
   ]
  },
  {
   "cell_type": "markdown",
   "metadata": {},
   "source": [
    "There is a lot of variation in this 'hazard gradient'.\n",
    "\n",
    "Note that due to format of the data, locations which do not have multiple\n",
    "cropping seasons will be present, and that empty parts of the table will have\n",
    "a gradient of exactly 0.\n",
    "\n",
    "Many of the gradients close to 0 will be non-significant, which becomes clear\n",
    "when we examine the p-values of the fit:"
   ]
  },
  {
   "cell_type": "code",
   "execution_count": 45,
   "metadata": {
    "lines_to_next_cell": 2
   },
   "outputs": [
    {
     "data": {
      "text/plain": [
       "Text(0, 0.5, 'pvalue')"
      ]
     },
     "execution_count": 45,
     "metadata": {},
     "output_type": "execute_result"
    },
    {
     "data": {
      "image/png": "[encoded data removed]",
      "text/plain": [
       "<Figure size 432x288 with 1 Axes>"
      ]
     },
     "metadata": {
      "needs_background": "light"
     },
     "output_type": "display_data"
    }
   ],
   "source": [
    "plt.scatter(\n",
    "    ds_parallel_fit.sel(linregress=\"slope\"), ds_parallel_fit.sel(linregress=\"pvalue\"),\n",
    ")\n",
    "plt.yscale(\"log\")\n",
    "plt.xlabel(\"Slope (%/C)\")\n",
    "plt.ylabel(\"pvalue\")"
   ]
  },
  {
   "cell_type": "markdown",
   "metadata": {},
   "source": [
    "What time of year the rice is harvested is important. Harvests that occur in\n",
    "November-January tend to be less affected.\n",
    "Therefore, averaging over cropping seasons will sometimes obscure that\n",
    "harvests in (e.g.) August are severely affected.\n",
    "\n",
    "(Note that, because the labour affect function I've used has a lower\n",
    "threshold, cropping season-locations that start off relatively cool will have\n",
    "a poor goodness of fit, as the trend will have an 'elbow'.)\n",
    "\n",
    "What is the hazard gradient in the worst affected cropping season in each\n",
    "location?"
   ]
  },
  {
   "cell_type": "code",
   "execution_count": 46,
   "metadata": {},
   "outputs": [
    {
     "data": {
      "text/plain": [
       "<GeoAxesSubplot:>"
      ]
     },
     "execution_count": 46,
     "metadata": {},
     "output_type": "execute_result"
    },
    {
     "data": {
      "image/png": "[encoded data removed]",
      "text/plain": [
       "<Figure size 504x504 with 2 Axes>"
      ]
     },
     "metadata": {
      "needs_background": "light"
     },
     "output_type": "display_data"
    }
   ],
   "source": [
    "# Plot the gradient of the worst affected season in each location\n",
    "ra[\"gradient_max_season\"] = ds_parallel_fit.max(\"seasonid\").sel(linregress=\"slope\")\n",
    "\n",
    "\n",
    "def map_plot(ra, variable, label, z_min, z_max, nbins):\n",
    "    bins = np.round(np.linspace(z_min, z_max, nbins), 1)\n",
    "    norm = mpl.colors.BoundaryNorm(boundaries=bins, ncolors=256)\n",
    "    fig = plt.figure(figsize=(7, 7))\n",
    "    ax = fig.add_subplot(1, 1, 1, projection=ccrs.PlateCarree())\n",
    "    min_lon, min_lat, max_lon, max_lat = ra.total_bounds\n",
    "    ax.set_extent([min_lon, max_lon, min_lat, max_lat], crs=ccrs.PlateCarree())\n",
    "    ax.add_feature(cfeature.LAND, facecolor=\"gray\")\n",
    "    ax.add_feature(cfeature.BORDERS, edgecolor=\"whitesmoke\")\n",
    "    ax.add_feature(cfeature.OCEAN, color=\"lightgray\")\n",
    "    return ra.plot(\n",
    "        column=variable,\n",
    "        legend=True,\n",
    "        ax=ax,\n",
    "        # norm=norm,\n",
    "        legend_kwds={\"label\": label, \"orientation\": \"horizontal\", \"boundaries\": bins,},\n",
    "    )\n",
    "\n",
    "\n",
    "map_plot(\n",
    "    ra,\n",
    "    \"gradient_max_season\",\n",
    "    \"Hazard gradient in worst affected season (%/C)\",\n",
    "    0,\n",
    "    10,\n",
    "    11,\n",
    ")"
   ]
  },
  {
   "cell_type": "markdown",
   "metadata": {},
   "source": [
    "What proportion of the harvest in each location is exposed to a significant gradient?\n",
    "Assuming this means p<0.01.\n"
   ]
  },
  {
   "cell_type": "code",
   "execution_count": 47,
   "metadata": {},
   "outputs": [
    {
     "data": {
      "text/plain": [
       "<GeoAxesSubplot:>"
      ]
     },
     "execution_count": 47,
     "metadata": {},
     "output_type": "execute_result"
    },
    {
     "data": {
      "image/png": "[encoded data removed]",
      "text/plain": [
       "<Figure size 504x504 with 2 Axes>"
      ]
     },
     "metadata": {
      "needs_background": "light"
     },
     "output_type": "display_data"
    }
   ],
   "source": [
    "is_exposed = ds_parallel_fit.sel(linregress=\"pvalue\") < 0.01\n",
    "weight_exposed = weights.where(is_exposed).sum(\"seasonid\")\n",
    "ra[\"weight_exposed\"] = weight_exposed / weights.sum(\"seasonid\") * 100\n",
    "map_plot(\n",
    "    ra,\n",
    "    \"weight_exposed\",\n",
    "    \"Proportion of production exposed to significant hazard gradient (%)\",\n",
    "    0,\n",
    "    100,\n",
    "    11,\n",
    ")"
   ]
  },
  {
   "cell_type": "code",
   "execution_count": 48,
   "metadata": {},
   "outputs": [
    {
     "name": "stdout",
     "output_type": "stream",
     "text": [
      "66.9% of the examined harvest is exposed\n"
     ]
    }
   ],
   "source": [
    "# Calculate the proportion of the total harvest that is exposed.\n",
    "exposed_percent = (weight_exposed.sum() / weights.sum()).item() * 100\n",
    "print(f\"{exposed_percent:0.1f}% of the examined harvest is exposed\")"
   ]
  },
  {
   "cell_type": "code",
   "execution_count": 49,
   "metadata": {
    "lines_to_next_cell": 2
   },
   "outputs": [
    {
     "name": "stdout",
     "output_type": "stream",
     "text": [
      "Month\tExposed\tNon-exposed\t(number of cropping season-locations)\n",
      "Jan \t 40 \t 29\n",
      "Feb \t 74 \t 58\n",
      "Mar \t 127 \t 65\n",
      "Apr \t 500 \t 97\n",
      "May \t 137 \t 43\n",
      "Jun \t 239 \t 73\n",
      "Jul \t 141 \t 27\n",
      "Aug \t 426 \t 60\n",
      "Sep \t 425 \t 481\n",
      "Oct \t 223 \t 371\n",
      "Nov \t 553 \t 581\n",
      "Dec \t 322 \t 200\n"
     ]
    }
   ],
   "source": [
    "# In what months is production exposed?\n",
    "months = [\n",
    "    \"Jan\",\n",
    "    \"Feb\",\n",
    "    \"Mar\",\n",
    "    \"Apr\",\n",
    "    \"May\",\n",
    "    \"Jun\",\n",
    "    \"Jul\",\n",
    "    \"Aug\",\n",
    "    \"Sep\",\n",
    "    \"Oct\",\n",
    "    \"Nov\",\n",
    "    \"Dec\",\n",
    "]\n",
    "\n",
    "exposed_months = np.unique(\n",
    "    ra[[\"HMO_PK1\", \"HMO_PK3\", \"HMO_PK3\"]][is_exposed.values].astype(str),\n",
    "    return_counts=True,\n",
    ")\n",
    "exposed_months = dict(zip(exposed_months[0], exposed_months[1]))\n",
    "non_exposed_months = np.unique(\n",
    "    ra[[\"HMO_PK1\", \"HMO_PK3\", \"HMO_PK3\"]][~is_exposed.values].astype(str),\n",
    "    return_counts=True,\n",
    ")\n",
    "non_exposed_months = dict(zip(non_exposed_months[0], non_exposed_months[1]))\n",
    "\n",
    "\n",
    "print(\"Month\\tExposed\\tNon-exposed\\t(number of cropping season-locations)\")\n",
    "for month in months:\n",
    "    print(month, \"\\t\", exposed_months[month], \"\\t\", non_exposed_months[month])"
   ]
  }
 ],
 "metadata": {
  "jupytext": {
   "encoding": "# -*- coding: utf-8 -*-",
   "formats": "ipynb,py:percent"
  },
  "kernelspec": {
   "display_name": "riceheat",
   "language": "python",
   "name": "riceheat"
  },
  "language_info": {
   "codemirror_mode": {
    "name": "ipython",
    "version": 3
   },
   "file_extension": ".py",
   "mimetype": "text/x-python",
   "name": "python",
   "nbconvert_exporter": "python",
   "pygments_lexer": "ipython3",
   "version": "3.8.6"
  }
 },
 "nbformat": 4,
 "nbformat_minor": 4
}
